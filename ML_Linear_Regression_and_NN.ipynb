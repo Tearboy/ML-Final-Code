{
  "nbformat": 4,
  "nbformat_minor": 0,
  "metadata": {
    "colab": {
      "name": "ML Linear Regression and NN.ipynb",
      "provenance": []
    },
    "kernelspec": {
      "name": "python3",
      "display_name": "Python 3"
    },
    "language_info": {
      "name": "python"
    }
  },
  "cells": [
    {
      "cell_type": "code",
      "execution_count": 1,
      "metadata": {
        "id": "1t2toT7uO6MR",
        "colab": {
          "base_uri": "https://localhost:8080/"
        },
        "outputId": "99eb6f06-e004-4953-c70b-7dd814bfc907"
      },
      "outputs": [
        {
          "output_type": "stream",
          "name": "stdout",
          "text": [
            "Mounted at /content/drive\n",
            "/content/drive/My Drive\n"
          ]
        }
      ],
      "source": [
        "# imports\n",
        "from google.colab import drive \n",
        "drive.mount('/content/drive')\n",
        "%cd /content/drive/My\\ Drive/\n",
        "%matplotlib inline\n",
        "from collections import defaultdict \n",
        "import numpy as np\n",
        "from data import load\n",
        "import matplotlib.pyplot as plt \n",
        "import pandas as pd\n"
      ]
    },
    {
      "cell_type": "code",
      "source": [
        "Data = pd.read_csv(r'US_COVID-19_Deaths_by_Sex_and_Age.csv')"
      ],
      "metadata": {
        "id": "r9vBX9EBO9C4"
      },
      "execution_count": 2,
      "outputs": []
    },
    {
      "cell_type": "code",
      "source": [
        "from sklearn.linear_model import LinearRegression\n",
        "Sex_cof = [0] * 24\n",
        "Age_cof = [0] * 24\n",
        "Intercept = [0] * 24\n",
        "for i in range(1, 25):\n",
        "  current = Data[Data[\"Month\"] == i]\n",
        "  death = current[\"COVID-19 Deaths\"].to_numpy()\n",
        "  sex = current[\"Sex\"].to_numpy()\n",
        "  age = current[\"Age Group\"].to_numpy()\n",
        "  combined = np.vstack((sex, age)).T\n",
        "  reg = LinearRegression().fit(combined, death)\n",
        "  Sex_cof[i-1] = reg.coef_[1]\n",
        "  Age_cof[i-1] = reg.coef_[0]\n",
        "  Intercept[i-1] = reg.intercept_\n"
      ],
      "metadata": {
        "id": "g0cZC5UaUFCL"
      },
      "execution_count": 6,
      "outputs": []
    },
    {
      "cell_type": "code",
      "source": [
        " Sex_cof\n",
        " Age_cof\n",
        " Intercept"
      ],
      "metadata": {
        "id": "aezc-W5dsgck"
      },
      "execution_count": null,
      "outputs": []
    },
    {
      "cell_type": "code",
      "source": [
        "from sklearn.linear_model import LinearRegression\n",
        "Sex_cof_rank = [0] * 22\n",
        "Age_cof_rank = [0] * 22\n",
        "Intercept_rank = [0] * 22\n",
        "for i in range(1, 23):\n",
        "  current = Data[Data[\"Month\"] == i]\n",
        "  death_rank = current[\"Rank\"].to_numpy()\n",
        "  sex = current[\"Sex\"].to_numpy()\n",
        "  age = current[\"Age Group\"].to_numpy()\n",
        "  combined = np.vstack((sex, age)).T\n",
        "  reg1 = LinearRegression().fit(combined, death)\n",
        "  Sex_cof_rank[i-1] = reg1.coef_[0]\n",
        "  Age_cof_rank[i-1] = reg1.coef_[1]\n",
        "  Intercept_rank[i-1] = reg1.intercept_"
      ],
      "metadata": {
        "id": "GcbLWh-U9MvP"
      },
      "execution_count": 8,
      "outputs": []
    },
    {
      "cell_type": "code",
      "source": [
        " Sex_cof_rank\n",
        " Age_cof_rank\n",
        " Intercept_rank"
      ],
      "metadata": {
        "id": "i3Pj9Xxz9M2L"
      },
      "execution_count": null,
      "outputs": []
    },
    {
      "cell_type": "code",
      "source": [
        "death = Data[\"COVID-19 Deaths\"].to_numpy()\n",
        "sex = Data[\"Sex\"].to_numpy()\n",
        "age = Data[\"Age Group\"].to_numpy()\n",
        "month = Data[\"Month\"].to_numpy()\n",
        "combined = np.vstack((sex, age, month)).T\n",
        "X_train, X_test, y_train, y_test = train_test_split(combined, death,\n",
        "                                                    test_size=0.16, random_state=42)\n",
        "\n",
        "reg2 = LinearRegression().fit(X_train, y_train)\n",
        "reg2.score(X_test, y_test)"
      ],
      "metadata": {
        "colab": {
          "base_uri": "https://localhost:8080/"
        },
        "id": "ZXFpfRoVs5DY",
        "outputId": "33f23eba-a2a6-47d7-92df-8f734c0355b1"
      },
      "execution_count": null,
      "outputs": [
        {
          "output_type": "execute_result",
          "data": {
            "text/plain": [
              "0.28584881136251195"
            ]
          },
          "metadata": {},
          "execution_count": 52
        }
      ]
    },
    {
      "cell_type": "code",
      "source": [
        "from sklearn.neural_network import MLPRegressor\n",
        "from sklearn.datasets import make_regression\n",
        "from sklearn.model_selection import train_test_split\n",
        "\n",
        "X_train, X_test, y_train, y_test = train_test_split(combined, death,\n",
        "                                                    test_size=0.16, random_state=42)\n",
        "regr = MLPRegressor(random_state=1, max_iter=1000).fit(X_train, y_train)\n",
        "regr.predict(X_test)\n",
        "regr.score(X_test, y_test)"
      ],
      "metadata": {
        "id": "c1aB31q0acTK",
        "colab": {
          "base_uri": "https://localhost:8080/"
        },
        "outputId": "c82d6cdf-3288-4ae3-b4aa-988d14baef58"
      },
      "execution_count": null,
      "outputs": [
        {
          "output_type": "execute_result",
          "data": {
            "text/plain": [
              "0.2789116501116399"
            ]
          },
          "metadata": {},
          "execution_count": 53
        }
      ]
    },
    {
      "cell_type": "code",
      "source": [
        "death_rank = Data[\"Rank\"].to_numpy()\n",
        "sex = Data[\"Sex\"].to_numpy()\n",
        "age = Data[\"Age Group\"].to_numpy()\n",
        "month = Data[\"Month\"].to_numpy()\n",
        "combined = np.vstack((sex, age, month)).T\n",
        "\n",
        "X_train, X_test, y_train, y_test = train_test_split(combined, death_rank,\n",
        "                                                    test_size=0.16, random_state=42)\n",
        "\n",
        "reg3 = LinearRegression().fit(X_train, y_train)\n",
        "print(reg3.coef_)\n",
        "reg3.score(X_test, y_test)"
      ],
      "metadata": {
        "colab": {
          "base_uri": "https://localhost:8080/"
        },
        "id": "RXoGszx94M7Q",
        "outputId": "d4cc0f45-210a-4646-d39b-34f41487caab"
      },
      "execution_count": null,
      "outputs": [
        {
          "output_type": "stream",
          "name": "stdout",
          "text": [
            "[ 1.28309642  0.31447049 -0.017354  ]\n"
          ]
        },
        {
          "output_type": "execute_result",
          "data": {
            "text/plain": [
              "0.8350489990693877"
            ]
          },
          "metadata": {},
          "execution_count": 81
        }
      ]
    },
    {
      "cell_type": "code",
      "source": [
        ""
      ],
      "metadata": {
        "id": "AiJHUeoh8nfu"
      },
      "execution_count": null,
      "outputs": []
    },
    {
      "cell_type": "code",
      "source": [
        "X_train, X_test, y_train, y_test = train_test_split(combined, death_rank,\n",
        "                                                    test_size=0.16, random_state=42)\n",
        "regr1 = MLPRegressor(random_state=1, max_iter=1000).fit(X_train, y_train)\n",
        "regr1.predict(X_test)\n",
        "regr1.score(X_test, y_test)"
      ],
      "metadata": {
        "id": "jq4Co76z4M9e",
        "colab": {
          "base_uri": "https://localhost:8080/"
        },
        "outputId": "68ece15c-7a3b-4c2a-b74e-c423427cbe89"
      },
      "execution_count": null,
      "outputs": [
        {
          "output_type": "execute_result",
          "data": {
            "text/plain": [
              "0.8541137187009339"
            ]
          },
          "metadata": {},
          "execution_count": 55
        }
      ]
    },
    {
      "cell_type": "code",
      "source": [
        "def linear_find_vulnerable(month):\n",
        "  rank = -1\n",
        "  vul_group = [0,0]\n",
        "  sex_list = [-1, 1]\n",
        "  age_list = [0.5, 2.5, 8.5, 9.5, 19.5, 23.5, 29.5, 39.5, 44.5, 49.5, 57, 59.5, 64.5, 69.5, 79.5, 85]\n",
        "  for i in sex_list:\n",
        "    for j in age_list:\n",
        "      temp = reg3.predict(np.array([[i, j, month]]))\n",
        "      if temp > rank:\n",
        "       rank = temp\n",
        "       vul_group = [i,j]\n",
        "  print(vul_group)\n"
      ],
      "metadata": {
        "id": "osoM2dEg-ZpN"
      },
      "execution_count": null,
      "outputs": []
    },
    {
      "cell_type": "code",
      "source": [
        "linear_find_vulnerable(25)"
      ],
      "metadata": {
        "colab": {
          "base_uri": "https://localhost:8080/"
        },
        "id": "Bm63SE_JFZ1a",
        "outputId": "46a7b022-381d-4596-f7f4-1b6b9ec398bd"
      },
      "execution_count": null,
      "outputs": [
        {
          "output_type": "stream",
          "name": "stdout",
          "text": [
            "[1, 85]\n"
          ]
        }
      ]
    },
    {
      "cell_type": "code",
      "source": [
        "def NN_find_vulnerable(month):\n",
        "  rank = -1\n",
        "  vul_group = [0,0]\n",
        "  sex_list = [-1, 1]\n",
        "  age_list = [0.5, 2.5, 8.5, 9.5, 19.5, 23.5, 29.5, 39.5, 44.5, 49.5, 57, 59.5, 64.5, 69.5, 79.5, 85]\n",
        "  for i in sex_list:\n",
        "    for j in age_list:\n",
        "      temp = regr1.predict(np.array([[i, j, month]]))\n",
        "      if temp > rank:\n",
        "       rank = temp\n",
        "       vul_group = [i,j]\n",
        "  print(vul_group)\n"
      ],
      "metadata": {
        "id": "qz9K2AiIGLoe"
      },
      "execution_count": null,
      "outputs": []
    },
    {
      "cell_type": "code",
      "source": [
        "NN_find_vulnerable(4)"
      ],
      "metadata": {
        "colab": {
          "base_uri": "https://localhost:8080/"
        },
        "id": "xba3Ql3XGQpS",
        "outputId": "e245b5d2-be58-4a98-c841-934e23863fef"
      },
      "execution_count": null,
      "outputs": [
        {
          "output_type": "stream",
          "name": "stdout",
          "text": [
            "[1, 85]\n"
          ]
        }
      ]
    }
  ]
}